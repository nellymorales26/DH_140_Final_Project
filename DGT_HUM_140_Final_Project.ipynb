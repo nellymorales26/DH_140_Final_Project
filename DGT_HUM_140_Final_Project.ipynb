{
 "cells": [
  {
   "cell_type": "markdown",
   "id": "ac44c0b6",
   "metadata": {},
   "source": [
    "# Digital Humanities 140 Final Project (Summer 2024)\n",
    "\n",
    "## By Nelly Morales\n",
    "\n",
    "### Introduction\n",
    "\n",
    "I chose to do this dataset called..."
   ]
  }
 ],
 "metadata": {
  "kernelspec": {
   "display_name": "Python 3 (ipykernel)",
   "language": "python",
   "name": "python3"
  },
  "language_info": {
   "codemirror_mode": {
    "name": "ipython",
    "version": 3
   },
   "file_extension": ".py",
   "mimetype": "text/x-python",
   "name": "python",
   "nbconvert_exporter": "python",
   "pygments_lexer": "ipython3",
   "version": "3.11.6"
  }
 },
 "nbformat": 4,
 "nbformat_minor": 5
}
